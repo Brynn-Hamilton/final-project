{
 "cells": [
  {
   "cell_type": "code",
   "execution_count": 36,
   "metadata": {},
   "outputs": [],
   "source": [
    "import pandas as pd\n",
    "import numpy as np\n",
    "from sklearn import linear_model\n",
    "from sklearn.model_selection import train_test_split\n",
    "import matplotlib.pyplot as plt"
   ]
  },
  {
   "cell_type": "code",
   "execution_count": 37,
   "metadata": {},
   "outputs": [
    {
     "data": {
      "text/plain": [
       "array([[ 0.72996492],\n",
       "       [-1.81635494],\n",
       "       [-1.45056112],\n",
       "       [-0.12733675],\n",
       "       [-0.182259  ],\n",
       "       [-1.35824166],\n",
       "       [-1.26924781],\n",
       "       [-0.39326293],\n",
       "       [ 1.58303546],\n",
       "       [-1.2422831 ]])"
      ]
     },
     "execution_count": 37,
     "metadata": {},
     "output_type": "execute_result"
    }
   ],
   "source": [
    "x = np.random.randn(10,1)\n",
    "y = 2*x+3\n",
    "\n",
    "x"
   ]
  },
  {
   "cell_type": "code",
   "execution_count": 38,
   "metadata": {},
   "outputs": [
    {
     "data": {
      "image/png": "[encoded data removed]",
      "text/plain": [
       "<Figure size 432x288 with 1 Axes>"
      ]
     },
     "metadata": {
      "needs_background": "light"
     },
     "output_type": "display_data"
    }
   ],
   "source": [
    "plt.scatter(x,y)\n",
    "plt.show()"
   ]
  },
  {
   "cell_type": "code",
   "execution_count": 39,
   "metadata": {},
   "outputs": [
    {
     "data": {
      "text/html": [
       "<div>\n",
       "<style scoped>\n",
       "    .dataframe tbody tr th:only-of-type {\n",
       "        vertical-align: middle;\n",
       "    }\n",
       "\n",
       "    .dataframe tbody tr th {\n",
       "        vertical-align: top;\n",
       "    }\n",
       "\n",
       "    .dataframe thead th {\n",
       "        text-align: right;\n",
       "    }\n",
       "</style>\n",
       "<table border=\"1\" class=\"dataframe\">\n",
       "  <thead>\n",
       "    <tr style=\"text-align: right;\">\n",
       "      <th></th>\n",
       "      <th>Year</th>\n",
       "      <th>United States VEP Turnout Rate</th>\n",
       "    </tr>\n",
       "  </thead>\n",
       "  <tbody>\n",
       "    <tr>\n",
       "      <th>0</th>\n",
       "      <td>1789</td>\n",
       "      <td>11.6</td>\n",
       "    </tr>\n",
       "    <tr>\n",
       "      <th>1</th>\n",
       "      <td>1792</td>\n",
       "      <td>6.3</td>\n",
       "    </tr>\n",
       "    <tr>\n",
       "      <th>2</th>\n",
       "      <td>1796</td>\n",
       "      <td>20.1</td>\n",
       "    </tr>\n",
       "    <tr>\n",
       "      <th>3</th>\n",
       "      <td>1800</td>\n",
       "      <td>32.3</td>\n",
       "    </tr>\n",
       "    <tr>\n",
       "      <th>4</th>\n",
       "      <td>1804</td>\n",
       "      <td>23.8</td>\n",
       "    </tr>\n",
       "    <tr>\n",
       "      <th>...</th>\n",
       "      <td>...</td>\n",
       "      <td>...</td>\n",
       "    </tr>\n",
       "    <tr>\n",
       "      <th>111</th>\n",
       "      <td>2002</td>\n",
       "      <td>39.5</td>\n",
       "    </tr>\n",
       "    <tr>\n",
       "      <th>112</th>\n",
       "      <td>2006</td>\n",
       "      <td>40.4</td>\n",
       "    </tr>\n",
       "    <tr>\n",
       "      <th>113</th>\n",
       "      <td>2010</td>\n",
       "      <td>41.0</td>\n",
       "    </tr>\n",
       "    <tr>\n",
       "      <th>114</th>\n",
       "      <td>2014</td>\n",
       "      <td>36.7</td>\n",
       "    </tr>\n",
       "    <tr>\n",
       "      <th>115</th>\n",
       "      <td>2018</td>\n",
       "      <td>50.0</td>\n",
       "    </tr>\n",
       "  </tbody>\n",
       "</table>\n",
       "<p>116 rows × 2 columns</p>\n",
       "</div>"
      ],
      "text/plain": [
       "     Year  United States VEP Turnout Rate\n",
       "0    1789                            11.6\n",
       "1    1792                             6.3\n",
       "2    1796                            20.1\n",
       "3    1800                            32.3\n",
       "4    1804                            23.8\n",
       "..    ...                             ...\n",
       "111  2002                            39.5\n",
       "112  2006                            40.4\n",
       "113  2010                            41.0\n",
       "114  2014                            36.7\n",
       "115  2018                            50.0\n",
       "\n",
       "[116 rows x 2 columns]"
      ]
     },
     "execution_count": 39,
     "metadata": {},
     "output_type": "execute_result"
    }
   ],
   "source": [
    "df = pd.read_csv(\"voter_turnout.csv\")\n",
    "df"
   ]
  },
  {
   "cell_type": "code",
   "execution_count": 40,
   "metadata": {},
   "outputs": [],
   "source": [
    "x1 = df.pop(\"Year\").values"
   ]
  },
  {
   "cell_type": "code",
   "execution_count": 41,
   "metadata": {},
   "outputs": [
    {
     "data": {
      "text/plain": [
       "array([1789, 1792, 1796, 1800, 1804, 1808, 1812, 1816, 1820, 1824, 1828,\n",
       "       1832, 1836, 1840, 1844, 1848, 1852, 1856, 1860, 1864, 1868, 1872,\n",
       "       1876, 1880, 1884, 1888, 1892, 1896, 1900, 1904, 1908, 1912, 1916,\n",
       "       1920, 1924, 1928, 1932, 1936, 1940, 1944, 1948, 1952, 1956, 1960,\n",
       "       1964, 1968, 1972, 1976, 1980, 1984, 1988, 1992, 1996, 2000, 2004,\n",
       "       2008, 2012, 2016, 1790, 1794, 1798, 1802, 1806, 1810, 1814, 1818,\n",
       "       1822, 1826, 1830, 1834, 1838, 1842, 1846, 1850, 1854, 1858, 1862,\n",
       "       1866, 1870, 1874, 1878, 1882, 1886, 1890, 1894, 1898, 1902, 1906,\n",
       "       1910, 1914, 1918, 1922, 1926, 1930, 1934, 1938, 1942, 1946, 1950,\n",
       "       1954, 1958, 1962, 1966, 1970, 1974, 1978, 1982, 1986, 1990, 1994,\n",
       "       1998, 2002, 2006, 2010, 2014, 2018], dtype=int64)"
      ]
     },
     "execution_count": 41,
     "metadata": {},
     "output_type": "execute_result"
    }
   ],
   "source": [
    "x1"
   ]
  },
  {
   "cell_type": "code",
   "execution_count": 42,
   "metadata": {},
   "outputs": [],
   "source": [
    "y1 = df.pop(\"United States VEP Turnout Rate\").values"
   ]
  },
  {
   "cell_type": "code",
   "execution_count": 43,
   "metadata": {},
   "outputs": [],
   "source": [
    "Years = []\n",
    "Turnout = []"
   ]
  },
  {
   "cell_type": "code",
   "execution_count": 44,
   "metadata": {},
   "outputs": [
    {
     "name": "stdout",
     "output_type": "stream",
     "text": [
      "[[1789], [1792], [1796], [1800], [1804], [1808], [1812], [1816], [1820], [1824], [1828], [1832], [1836], [1840], [1844], [1848], [1852], [1856], [1860], [1864], [1868], [1872], [1876], [1880], [1884], [1888], [1892], [1896], [1900], [1904], [1908], [1912], [1916], [1920], [1924], [1928], [1932], [1936], [1940], [1944], [1948], [1952], [1956], [1960], [1964], [1968], [1972], [1976], [1980], [1984], [1988], [1992], [1996], [2000], [2004], [2008], [2012], [2016], [1790], [1794], [1798], [1802], [1806], [1810], [1814], [1818], [1822], [1826], [1830], [1834], [1838], [1842], [1846], [1850], [1854], [1858], [1862], [1866], [1870], [1874], [1878], [1882], [1886], [1890], [1894], [1898], [1902], [1906], [1910], [1914], [1918], [1922], [1926], [1930], [1934], [1938], [1942], [1946], [1950], [1954], [1958], [1962], [1966], [1970], [1974], [1978], [1982], [1986], [1990], [1994], [1998], [2002], [2006], [2010], [2014], [2018]]\n",
      "[[11.6], [6.3], [20.1], [32.3], [23.8], [36.8], [40.4], [16.9], [10.1], [26.9], [57.3], [57.0], [56.5], [80.3], [79.2], [72.8], [69.5], [79.4], [81.8], [76.3], [80.9], [72.1], [82.6], [80.5], [78.2], [80.5], [75.8], [79.6], [73.7], [65.5], [65.7], [59.0], [61.8], [49.2], [48.9], [56.9], [56.9], [61.0], [62.4], [55.9], [52.2], [62.3], [60.2], [63.8], [62.8], [62.5], [56.2], [54.8], [54.2], [55.2], [52.8], [58.1], [51.7], [54.2], [60.1], [61.6], [58.6], [60.1], [21.6], [25.0], [36.0], [42.0], [45.8], [49.8], [52.8], [41.1], [44.7], [50.1], [55.7], [63.0], [70.8], [61.8], [60.3], [60.5], [66.1], [69.1], [65.1], [71.4], [67.0], [65.0], [65.2], [65.7], [63.9], [64.6], [67.4], [60.1], [55.6], [51.3], [52.0], [50.4], [39.9], [35.7], [32.9], [36.7], [44.5], [46.6], [33.9], [38.8], [43.6], [43.5], [45.0], [47.7], [48.7], [47.3], [39.1], [39.0], [42.0], [38.1], [38.4], [41.1], [38.1], [39.5], [40.4], [41.0], [36.7], [50.0]]\n"
     ]
    }
   ],
   "source": [
    "for v in x1:\n",
    "    Years.append([v])\n",
    "\n",
    "print(Years)\n",
    "\n",
    "for w in y1:\n",
    "    Turnout.append([w])\n",
    "print(Turnout)"
   ]
  },
  {
   "cell_type": "code",
   "execution_count": 45,
   "metadata": {},
   "outputs": [
    {
     "data": {
      "image/png": "[encoded data removed]",
      "text/plain": [
       "<Figure size 432x288 with 1 Axes>"
      ]
     },
     "metadata": {
      "needs_background": "light"
     },
     "output_type": "display_data"
    }
   ],
   "source": [
    "plt.scatter(Years, Turnout)\n",
    "plt.show()"
   ]
  },
  {
   "cell_type": "code",
   "execution_count": 47,
   "metadata": {},
   "outputs": [
    {
     "data": {
      "text/plain": [
       "LinearRegression()"
      ]
     },
     "execution_count": 47,
     "metadata": {},
     "output_type": "execute_result"
    }
   ],
   "source": [
    "model = linear_model.LinearRegression()\n",
    "model.fit(Years, Turnout)"
   ]
  },
  {
   "cell_type": "code",
   "execution_count": 49,
   "metadata": {},
   "outputs": [
    {
     "data": {
      "text/plain": [
       "array([[0.01692492]])"
      ]
     },
     "execution_count": 49,
     "metadata": {},
     "output_type": "execute_result"
    }
   ],
   "source": [
    "model.coef_"
   ]
  },
  {
   "cell_type": "code",
   "execution_count": 50,
   "metadata": {},
   "outputs": [
    {
     "data": {
      "text/plain": [
       "array([21.00637766])"
      ]
     },
     "execution_count": 50,
     "metadata": {},
     "output_type": "execute_result"
    }
   ],
   "source": [
    "model.intercept_"
   ]
  },
  {
   "cell_type": "code",
   "execution_count": 56,
   "metadata": {},
   "outputs": [],
   "source": [
    "pred = model.predict(Years)"
   ]
  },
  {
   "cell_type": "code",
   "execution_count": 57,
   "metadata": {},
   "outputs": [
    {
     "data": {
      "image/png": "[encoded data removed]",
      "text/plain": [
       "<Figure size 432x288 with 1 Axes>"
      ]
     },
     "metadata": {
      "needs_background": "light"
     },
     "output_type": "display_data"
    }
   ],
   "source": [
    "plt.scatter(Years, Turnout)\n",
    "plt.plot(Years, pred, 'r')\n",
    "plt.legend(['Predicted line','Observed data'])\n",
    "plt.show()"
   ]
  },
  {
   "cell_type": "code",
   "execution_count": null,
   "metadata": {},
   "outputs": [],
   "source": []
  }
 ],
 "metadata": {
  "kernelspec": {
   "display_name": "Python 3",
   "language": "python",
   "name": "python3"
  },
  "language_info": {
   "codemirror_mode": {
    "name": "ipython",
    "version": 3
   },
   "file_extension": ".py",
   "mimetype": "text/x-python",
   "name": "python",
   "nbconvert_exporter": "python",
   "pygments_lexer": "ipython3",
   "version": "3.8.0"
  }
 },
 "nbformat": 4,
 "nbformat_minor": 4
}
